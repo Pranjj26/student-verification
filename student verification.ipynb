{
 "cells": [
  {
   "cell_type": "code",
   "execution_count": 6,
   "id": "08bf8048",
   "metadata": {},
   "outputs": [
    {
     "name": "stdout",
     "output_type": "stream",
     "text": [
      "Enter student data for QR code:-1001\n"
     ]
    }
   ],
   "source": [
    "import qrcode as qr\n",
    "Data=input(\"Enter student data for QR code:-\")\n",
    "img=qr.make(Data)\n",
    "img.save(\"Student_QR.jpg\")"
   ]
  },
  {
   "cell_type": "code",
   "execution_count": 7,
   "id": "b7eabf17",
   "metadata": {},
   "outputs": [
    {
     "name": "stdout",
     "output_type": "stream",
     "text": [
      "QR Code Data: 1001\n",
      "Roll no.: 1001\n",
      "Student Name: Sahil\n",
      "Class: TE IT\n",
      "Address: Nagar\n"
     ]
    }
   ],
   "source": [
    "import cv2\n",
    "from pyzbar import pyzbar\n",
    "from PIL import Image\n",
    "import json\n",
    "\n",
    "Data_file = \"student_database.json\"\n",
    "\n",
    "def load_database():\n",
    "    try:\n",
    "        with open(Data_file, \"r\") as file:\n",
    "            Data = json.load(file)\n",
    "    except (FileNotFoundError,json.JSONDecodeError):\n",
    "        Data = {}\n",
    "    return Data\n",
    "\n",
    "def read_qr_code(image_path):\n",
    "    image = cv2.imread(image_path)\n",
    "    qr_codes = pyzbar.decode(image)\n",
    "    for qr_code in qr_codes:\n",
    "        qr_data = qr_code.data.decode(\"utf-8\")\n",
    "        print(\"QR Code Data:\", qr_data)\n",
    "        return qr_data\n",
    "    return None\n",
    "\n",
    "\n",
    "def verify_student(image_path,Data):\n",
    "    # Read the QR code\n",
    "    qr_data = read_qr_code(image_path)\n",
    "\n",
    "    # Verify student from the database\n",
    "    if qr_data is not None:\n",
    "        if qr_data in Data:\n",
    "            student_name = Data[qr_data]\n",
    "            print(f\"Roll no.: {student_name['roll']}\")\n",
    "            print(f\"Student Name: {student_name['name']}\")\n",
    "            print(f\"Class: {student_name['class']}\")\n",
    "            print(f\"Address: {student_name['address']}\")\n",
    "        else:\n",
    "            print(\"Student Not Found in Database\")\n",
    "    else:\n",
    "        print(\"No QR Code Detected\")\n",
    "\n",
    "\n",
    "\n",
    "Data = load_database()\n",
    "image_path = \"Student_QR.jpg\"  # Replace with the actual image path\n",
    "verify_student(image_path,Data)"
   ]
  },
  {
   "cell_type": "code",
   "execution_count": null,
   "id": "de0f8209",
   "metadata": {},
   "outputs": [],
   "source": []
  }
 ],
 "metadata": {
  "kernelspec": {
   "display_name": "Python 3 (ipykernel)",
   "language": "python",
   "name": "python3"
  },
  "language_info": {
   "codemirror_mode": {
    "name": "ipython",
    "version": 3
   },
   "file_extension": ".py",
   "mimetype": "text/x-python",
   "name": "python",
   "nbconvert_exporter": "python",
   "pygments_lexer": "ipython3",
   "version": "3.9.12"
  }
 },
 "nbformat": 4,
 "nbformat_minor": 5
}
